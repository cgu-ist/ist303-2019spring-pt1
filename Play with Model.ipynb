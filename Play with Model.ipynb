{
 "cells": [
  {
   "cell_type": "code",
   "execution_count": 1,
   "metadata": {},
   "outputs": [],
   "source": [
    "from administration.models import (Customer, Service)\n",
    "from reservation.models import Reservation"
   ]
  },
  {
   "cell_type": "code",
   "execution_count": 2,
   "metadata": {},
   "outputs": [
    {
     "data": {
      "text/plain": [
       "(4, {'reservation.Reservation': 0, 'administration.Service': 4})"
      ]
     },
     "execution_count": 2,
     "metadata": {},
     "output_type": "execute_result"
    }
   ],
   "source": [
    "Reservation.objects.all().delete()\n",
    "Customer.objects.all().delete()\n",
    "Service.objects.all().delete()"
   ]
  },
  {
   "cell_type": "code",
   "execution_count": 3,
   "metadata": {},
   "outputs": [],
   "source": [
    "c1 = Customer.objects.create(first_name=\"Haibo\", last_name=\"Yan\", gender='Male', email='haibo.yan@cgu.edu', tel='(925)351-5817')"
   ]
  },
  {
   "cell_type": "code",
   "execution_count": 4,
   "metadata": {},
   "outputs": [],
   "source": [
    "c1.save()"
   ]
  },
  {
   "cell_type": "code",
   "execution_count": 5,
   "metadata": {},
   "outputs": [],
   "source": [
    "c2 = Customer.objects.all()[0]"
   ]
  },
  {
   "cell_type": "code",
   "execution_count": 6,
   "metadata": {},
   "outputs": [
    {
     "data": {
      "text/plain": [
       "True"
      ]
     },
     "execution_count": 6,
     "metadata": {},
     "output_type": "execute_result"
    }
   ],
   "source": [
    "c1 == c2"
   ]
  },
  {
   "cell_type": "code",
   "execution_count": 7,
   "metadata": {},
   "outputs": [
    {
     "data": {
      "text/plain": [
       "django.db.models.query.QuerySet"
      ]
     },
     "execution_count": 7,
     "metadata": {},
     "output_type": "execute_result"
    }
   ],
   "source": [
    "type(Customer.objects.all())"
   ]
  },
  {
   "cell_type": "code",
   "execution_count": 8,
   "metadata": {},
   "outputs": [
    {
     "data": {
      "text/plain": [
       "[<Customer: Customer id: None, name: Karen Snow, sex: Female, True>,\n",
       " <Customer: Customer id: None, name: Okechukwu Ugwuanyi, sex: Male, True>,\n",
       " <Customer: Customer id: None, name: Leslie Bienenfeld, sex: Female, True>,\n",
       " <Customer: Customer id: None, name: Lade Johnson, sex: Female, True>,\n",
       " <Customer: Customer id: None, name: Stephen Davison, sex: Male, True>]"
      ]
     },
     "execution_count": 8,
     "metadata": {},
     "output_type": "execute_result"
    }
   ],
   "source": [
    "Customer.objects.bulk_create([\n",
    "    Customer(first_name=\"Karen\", last_name=\"Snow\", gender='Female', email='karen.snow@cgu.edu', tel='(661)203-7322'),\n",
    "    Customer(first_name=\"Okechukwu\", last_name=\"Ugwuanyi\", gender='Male', email='okechukwu.ugwuanyi@cgu.edu', tel='(333)828-3880'),\n",
    "    Customer(first_name=\"Leslie\", last_name=\"Bienenfeld\", gender='Female', email='leslie.bienenfeld@cgu.edu', tel='(221)323-8320'),\n",
    "    Customer(first_name=\"Lade\", last_name=\"Johnson\", gender='Female', email='lade.johnson@cgu.edu', tel='(556)741-2231'),\n",
    "    Customer(first_name=\"Stephen\", last_name=\"Davison\", gender='Male', email='stephen.davison@cgu.edu', tel='(441)323-8320')\n",
    "])"
   ]
  },
  {
   "cell_type": "code",
   "execution_count": 9,
   "metadata": {},
   "outputs": [],
   "source": [
    "c3 = Customer.objects.all()[3]"
   ]
  },
  {
   "cell_type": "code",
   "execution_count": 10,
   "metadata": {},
   "outputs": [
    {
     "data": {
      "text/plain": [
       "<Customer: Customer id: 42, name: Leslie Bienenfeld, sex: Female, True>"
      ]
     },
     "execution_count": 10,
     "metadata": {},
     "output_type": "execute_result"
    }
   ],
   "source": [
    "c3"
   ]
  },
  {
   "cell_type": "code",
   "execution_count": 11,
   "metadata": {},
   "outputs": [
    {
     "name": "stdout",
     "output_type": "stream",
     "text": [
      "Customer id: 42, name: Leslie Bienenfeld, sex: Female, True\n"
     ]
    }
   ],
   "source": [
    "print(c3)"
   ]
  },
  {
   "cell_type": "code",
   "execution_count": 12,
   "metadata": {},
   "outputs": [
    {
     "data": {
      "text/plain": [
       "6"
      ]
     },
     "execution_count": 12,
     "metadata": {},
     "output_type": "execute_result"
    }
   ],
   "source": [
    "Customer.objects.all().count()"
   ]
  },
  {
   "cell_type": "code",
   "execution_count": 13,
   "metadata": {},
   "outputs": [],
   "source": [
    "males = Customer.objects.filter(gender='Male')"
   ]
  },
  {
   "cell_type": "code",
   "execution_count": 14,
   "metadata": {},
   "outputs": [],
   "source": [
    "okey = Customer.objects.get(first_name='Okechukwu') #get only allow one row"
   ]
  },
  {
   "cell_type": "code",
   "execution_count": 15,
   "metadata": {},
   "outputs": [],
   "source": [
    "females = Customer.objects.order_by('last_name').filter(gender='Female')"
   ]
  },
  {
   "cell_type": "code",
   "execution_count": 16,
   "metadata": {},
   "outputs": [
    {
     "name": "stdout",
     "output_type": "stream",
     "text": [
      "<QuerySet [<Customer: Customer id: 42, name: Leslie Bienenfeld, sex: Female, True>, <Customer: Customer id: 43, name: Lade Johnson, sex: Female, True>, <Customer: Customer id: 40, name: Karen Snow, sex: Female, True>]>\n"
     ]
    }
   ],
   "source": [
    "print(females)"
   ]
  },
  {
   "cell_type": "code",
   "execution_count": 17,
   "metadata": {},
   "outputs": [],
   "source": [
    "females_rev = Customer.objects.filter(gender='Female').order_by('-last_name')"
   ]
  },
  {
   "cell_type": "code",
   "execution_count": 18,
   "metadata": {},
   "outputs": [
    {
     "name": "stdout",
     "output_type": "stream",
     "text": [
      "<QuerySet [<Customer: Customer id: 40, name: Karen Snow, sex: Female, True>, <Customer: Customer id: 43, name: Lade Johnson, sex: Female, True>, <Customer: Customer id: 42, name: Leslie Bienenfeld, sex: Female, True>]>\n"
     ]
    }
   ],
   "source": [
    "print(females_rev)"
   ]
  },
  {
   "cell_type": "code",
   "execution_count": 19,
   "metadata": {},
   "outputs": [
    {
     "data": {
      "text/plain": [
       "<QuerySet [('Haibo', 'Yan'), ('Karen', 'Snow'), ('Okechukwu', 'Ugwuanyi'), ('Leslie', 'Bienenfeld'), ('Lade', 'Johnson'), ('Stephen', 'Davison')]>"
      ]
     },
     "execution_count": 19,
     "metadata": {},
     "output_type": "execute_result"
    }
   ],
   "source": [
    "Customer.objects.values_list(\"first_name\", \"last_name\")"
   ]
  },
  {
   "cell_type": "code",
   "execution_count": 20,
   "metadata": {},
   "outputs": [],
   "source": [
    "old_customer = Customer.objects.create(first_name=\"Sarah\", last_name=\"Brightman\", gender='Female', active=False, email='sarah.brightman@artist.com', tel='11111111')"
   ]
  },
  {
   "cell_type": "code",
   "execution_count": 21,
   "metadata": {},
   "outputs": [],
   "source": [
    "old_customer.save()"
   ]
  },
  {
   "cell_type": "code",
   "execution_count": 22,
   "metadata": {},
   "outputs": [
    {
     "data": {
      "text/plain": [
       "7"
      ]
     },
     "execution_count": 22,
     "metadata": {},
     "output_type": "execute_result"
    }
   ],
   "source": [
    "Customer.objects.all().count()"
   ]
  },
  {
   "cell_type": "code",
   "execution_count": 23,
   "metadata": {},
   "outputs": [
    {
     "data": {
      "text/plain": [
       "6"
      ]
     },
     "execution_count": 23,
     "metadata": {},
     "output_type": "execute_result"
    }
   ],
   "source": [
    "Customer.actives.count()"
   ]
  },
  {
   "cell_type": "code",
   "execution_count": 24,
   "metadata": {},
   "outputs": [
    {
     "name": "stdout",
     "output_type": "stream",
     "text": [
      "<QuerySet [<Customer: Customer id: 39, name: Haibo Yan, sex: Male, True>, <Customer: Customer id: 40, name: Karen Snow, sex: Female, True>, <Customer: Customer id: 41, name: Okechukwu Ugwuanyi, sex: Male, True>, <Customer: Customer id: 42, name: Leslie Bienenfeld, sex: Female, True>, <Customer: Customer id: 43, name: Lade Johnson, sex: Female, True>, <Customer: Customer id: 44, name: Stephen Davison, sex: Male, True>, <Customer: Customer id: 45, name: Sarah Brightman, sex: Female, False>]>\n"
     ]
    }
   ],
   "source": [
    "print(Customer.objects.all())"
   ]
  },
  {
   "cell_type": "code",
   "execution_count": 25,
   "metadata": {},
   "outputs": [
    {
     "name": "stdout",
     "output_type": "stream",
     "text": [
      "<QuerySet [<Customer: Customer id: 39, name: Haibo Yan, sex: Male, True>, <Customer: Customer id: 40, name: Karen Snow, sex: Female, True>, <Customer: Customer id: 41, name: Okechukwu Ugwuanyi, sex: Male, True>, <Customer: Customer id: 42, name: Leslie Bienenfeld, sex: Female, True>, <Customer: Customer id: 43, name: Lade Johnson, sex: Female, True>, <Customer: Customer id: 44, name: Stephen Davison, sex: Male, True>]>\n"
     ]
    }
   ],
   "source": [
    "print(Customer.actives.all())"
   ]
  },
  {
   "cell_type": "code",
   "execution_count": 26,
   "metadata": {},
   "outputs": [],
   "source": [
    "\n",
    "s1 = Service.objects.create(name='Mineral baths', description='Mineral baths', time_type='30, 60', rate=2.50, limit=65535)"
   ]
  },
  {
   "cell_type": "code",
   "execution_count": 27,
   "metadata": {},
   "outputs": [],
   "source": [
    "s1.save()"
   ]
  },
  {
   "cell_type": "code",
   "execution_count": 28,
   "metadata": {},
   "outputs": [
    {
     "data": {
      "text/plain": [
       "[<Service: name: Massage services\n",
       "  description: Swedish, shiatsu, or deep tissue\n",
       "  time_type: 30, 60 rate: 3.0 limit: 1>, <Service: name: Facial services\n",
       "  description: normal or collagen\n",
       "  time_type: 30, 60 rate: 2.0 limit: 1>, <Service: name: Specialty treatment services\n",
       "  description: hot stone, sugar scrub, herbal body wrap, or botanical mud wrap\n",
       "  time_type: 60, 90 rate: 3.5 limit: 1>]"
      ]
     },
     "execution_count": 28,
     "metadata": {},
     "output_type": "execute_result"
    }
   ],
   "source": [
    "Service.objects.bulk_create([\n",
    "    Service(name='Massage services', description='Swedish, shiatsu, or deep tissue', time_type='30, 60', rate=3.00, limit=1),\n",
    "    Service(name='Facial services', description='normal or collagen', time_type='30, 60', rate=2.00, limit=1),\n",
    "    Service(name='Specialty treatment services', description='hot stone, sugar scrub, herbal body wrap, or botanical mud wrap', time_type='60, 90', rate=3.50, limit=1)\n",
    "])"
   ]
  },
  {
   "cell_type": "code",
   "execution_count": 29,
   "metadata": {},
   "outputs": [
    {
     "data": {
      "text/plain": [
       "4"
      ]
     },
     "execution_count": 29,
     "metadata": {},
     "output_type": "execute_result"
    }
   ],
   "source": [
    "Service.objects.all().count()"
   ]
  },
  {
   "cell_type": "code",
   "execution_count": 30,
   "metadata": {},
   "outputs": [],
   "source": [
    "s = list(Service.objects.all())"
   ]
  },
  {
   "cell_type": "code",
   "execution_count": 31,
   "metadata": {},
   "outputs": [
    {
     "data": {
      "text/plain": [
       "[<Service: name: Mineral baths\n",
       "  description: Mineral baths\n",
       "  time_type: 30, 60 rate: 2.50 limit: 65535>, <Service: name: Massage services\n",
       "  description: Swedish, shiatsu, or deep tissue\n",
       "  time_type: 30, 60 rate: 3.00 limit: 1>, <Service: name: Facial services\n",
       "  description: normal or collagen\n",
       "  time_type: 30, 60 rate: 2.00 limit: 1>, <Service: name: Specialty treatment services\n",
       "  description: hot stone, sugar scrub, herbal body wrap, or botanical mud wrap\n",
       "  time_type: 60, 90 rate: 3.50 limit: 1>]"
      ]
     },
     "execution_count": 31,
     "metadata": {},
     "output_type": "execute_result"
    }
   ],
   "source": [
    "s"
   ]
  },
  {
   "cell_type": "code",
   "execution_count": 32,
   "metadata": {},
   "outputs": [],
   "source": [
    "from datetime import (date, time)\n",
    "day320 = date(year = 2019, month = 3, day = 29)\n",
    "day321 = date(year = 2019, month = 3, day = 21)\n",
    "day322 = date(year = 2019, month = 3, day = 22)\n",
    "day323 = date(year = 2019, month = 3, day = 23)\n",
    "day331 = date(year = 2019, month = 3, day = 31)\n",
    "day401 = date(year = 2019, month = 4, day = 1)\n",
    "day402 = date(year = 2019, month = 4, day = 2)\n",
    "day403 = date(year = 2019, month = 4, day = 3)\n",
    "day404 = date(year = 2019, month = 4, day = 4)\n",
    "day405 = date(year = 2019, month = 4, day = 5)\n",
    "day406 = date(year = 2019, month = 4, day = 6)\n",
    "day407 = date(year = 2019, month = 4, day = 7)\n",
    "day408 = date(year = 2019, month = 4, day = 8)\n",
    "day409 = date(year = 2019, month = 4, day = 8)\n",
    "day410 = date(year = 2019, month = 4, day = 10)\n",
    "day411 = date(year = 2019, month = 4, day = 11)\n",
    "day412 = date(year = 2019, month = 4, day = 12)\n",
    "time0800=time(hour=8, minute=0)\n",
    "time0830=time(hour=8, minute=30)\n",
    "time0800=time(hour=8, minute=0)\n",
    "time0900=time(hour=9, minute=0)\n",
    "time0930=time(hour=9, minute=30)\n",
    "time1000=time(hour=10, minute=0)\n",
    "time1030=time(hour=10, minute=30)\n",
    "time1100=time(hour=11, minute=0)\n",
    "time1130=time(hour=11, minute=30)\n",
    "time1200=time(hour=12, minute=0)\n",
    "time1230=time(hour=12, minute=30)\n",
    "time1300=time(hour=13, minute=0)\n",
    "time1330=time(hour=13, minute=30)\n",
    "time1400=time(hour=14, minute=0)\n",
    "time1430=time(hour=14, minute=30)\n",
    "time1500=time(hour=15, minute=0)\n",
    "time1530=time(hour=15, minute=30)\n",
    "time1600=time(hour=16, minute=0)\n",
    "time1630=time(hour=16, minute=30)\n",
    "time1700=time(hour=17, minute=0)\n",
    "time1730=time(hour=17, minute=30)\n",
    "time1800=time(hour=18, minute=0)\n",
    "time1830=time(hour=18, minute=30)\n",
    "time1900=time(hour=19, minute=0)\n",
    "time1930=time(hour=19, minute=30)\n",
    "time2000=time(hour=20, minute=0)\n",
    "haibo = Customer.objects.get(first_name='Haibo')\n",
    "leslie = Customer.objects.get(first_name='Leslie')\n",
    "stephen = Customer.objects.get(first_name='Stephen')\n",
    "karen = Customer.objects.get(first_name='Karen')\n",
    "lade = Customer.objects.get(first_name='Lade')\n",
    "s2 = Service.objects.get(name='Massage services')\n",
    "s3 = Service.objects.get(name='Facial services')\n",
    "s4 = Service.objects.get(name='Specialty treatment services')"
   ]
  },
  {
   "cell_type": "code",
   "execution_count": 33,
   "metadata": {},
   "outputs": [],
   "source": [
    "r1 = Reservation.objects.create(customer = okey, date = day320, start_time=time1330, end_time=time1430, reservation_service = s4, status='C')\n",
    "r2 = Reservation.objects.create(customer = lade, date = day321, start_time=time0800, end_time=time0900, reservation_service = s1, status='N')\n",
    "r3 = Reservation.objects.create(customer = stephen, date = day322, start_time=time1430, end_time=time1530, reservation_service = s2, status='N')\n",
    "r4 = Reservation.objects.create(customer = leslie, date = day323, start_time=time1730, end_time=time1830, reservation_service = s3, status='N')\n",
    "r5 = Reservation.objects.create(customer = karen, date = day331, start_time=time1900, end_time=time2000, reservation_service = s1, status='N')"
   ]
  },
  {
   "cell_type": "code",
   "execution_count": 34,
   "metadata": {},
   "outputs": [],
   "source": [
    "r1.save()\n",
    "r2.save()\n",
    "r3.save()\n",
    "r4.save()\n",
    "r5.save()"
   ]
  },
  {
   "cell_type": "code",
   "execution_count": 35,
   "metadata": {},
   "outputs": [
    {
     "data": {
      "text/plain": [
       "[<Reservation: Reservation object (None)>,\n",
       " <Reservation: Reservation object (None)>,\n",
       " <Reservation: Reservation object (None)>,\n",
       " <Reservation: Reservation object (None)>,\n",
       " <Reservation: Reservation object (None)>,\n",
       " <Reservation: Reservation object (None)>,\n",
       " <Reservation: Reservation object (None)>,\n",
       " <Reservation: Reservation object (None)>,\n",
       " <Reservation: Reservation object (None)>,\n",
       " <Reservation: Reservation object (None)>,\n",
       " <Reservation: Reservation object (None)>,\n",
       " <Reservation: Reservation object (None)>,\n",
       " <Reservation: Reservation object (None)>,\n",
       " <Reservation: Reservation object (None)>,\n",
       " <Reservation: Reservation object (None)>,\n",
       " <Reservation: Reservation object (None)>,\n",
       " <Reservation: Reservation object (None)>,\n",
       " <Reservation: Reservation object (None)>,\n",
       " <Reservation: Reservation object (None)>,\n",
       " <Reservation: Reservation object (None)>]"
      ]
     },
     "execution_count": 35,
     "metadata": {},
     "output_type": "execute_result"
    }
   ],
   "source": [
    "Reservation.objects.bulk_create([\n",
    "Reservation(customer = haibo, date = day401, start_time=time1400, end_time=time1500, reservation_service = s1, status='N'),     \n",
    "Reservation(customer = lade, date = day401, start_time=time1200, end_time=time1330, reservation_service = s1, status='N'),     \n",
    "Reservation(customer = okey, date = day401, start_time=time1700, end_time=time1900, reservation_service = s4, status='N'),    \n",
    "Reservation(customer = stephen, date = day401, start_time=time0900, end_time=time1030, reservation_service = s2, status='N'),   \n",
    "Reservation(customer = leslie, date = day402, start_time=time0900, end_time=time1030, reservation_service = s2, status='N'),    \n",
    "Reservation(customer = karen, date = day402, start_time=time1900, end_time=time2000, reservation_service = s3, status='N'),    \n",
    "Reservation(customer = haibo, date = day402, start_time=time1730, end_time=time1900, reservation_service = s3, status='N'),    \n",
    "Reservation(customer = lade, date = day402, start_time=time1030, end_time=time1200, reservation_service = s2, status='N'),    \n",
    "Reservation(customer = okey, date = day402, start_time=time1200, end_time=time1300, reservation_service = s4),    \n",
    "Reservation(customer = stephen, date = day403, start_time=time0800, end_time=time0830, reservation_service = s1, status='N'),    \n",
    "Reservation(customer = leslie, date = day403, start_time=time1200, end_time=time1330, reservation_service = s1, status='N'),    \n",
    "Reservation(customer = karen, date = day403, start_time=time1400, end_time=time1500, reservation_service = s1, status='N'),    \n",
    "Reservation(customer = haibo, date = day404, start_time=time0900, end_time=time1000, reservation_service = s4, status='N'),    \n",
    "Reservation(customer = lade, date = day404, start_time=time1000, end_time=time1030, reservation_service = s1, status='N'),    \n",
    "Reservation(customer = okey, date = day404, start_time=time1030, end_time=time1100, reservation_service = s1, status='N'),    \n",
    "Reservation(customer = stephen, date = day404, start_time=time1500, end_time=time1530, reservation_service = s1, status='N'),    \n",
    "Reservation(customer = leslie, date = day404, start_time=time1900, end_time=time2000, reservation_service = s1, status='N'),    \n",
    "Reservation(customer = karen, date = day405, start_time=time1500, end_time=time1600, reservation_service = s3, status='N') ,    \n",
    "Reservation(customer = haibo, date = day406, start_time=time1200, end_time=time1300, reservation_service = s2, status='N') ,    \n",
    "Reservation(customer = lade, date = day407, start_time=time1400, end_time=time1500, reservation_service = s3, status='N')          \n",
    "])\n"
   ]
  },
  {
   "cell_type": "code",
   "execution_count": null,
   "metadata": {},
   "outputs": [],
   "source": []
  }
 ],
 "metadata": {
  "kernelspec": {
   "display_name": "Django Shell-Plus",
   "language": "python",
   "name": "django_extensions"
  },
  "language_info": {
   "codemirror_mode": {
    "name": "ipython",
    "version": 3
   },
   "file_extension": ".py",
   "mimetype": "text/x-python",
   "name": "python",
   "nbconvert_exporter": "python",
   "pygments_lexer": "ipython3",
   "version": "3.7.2"
  }
 },
 "nbformat": 4,
 "nbformat_minor": 2
}
