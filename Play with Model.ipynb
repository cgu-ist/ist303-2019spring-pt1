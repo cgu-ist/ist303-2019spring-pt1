{
 "cells": [
  {
   "cell_type": "code",
   "execution_count": 1,
   "metadata": {},
   "outputs": [],
   "source": [
    "from administration.models import (Customer, Service)\n",
    "from reservation.models import Reservation"
   ]
  },
  {
   "cell_type": "code",
   "execution_count": 2,
   "metadata": {},
   "outputs": [
    {
     "data": {
      "text/plain": [
       "(4, {'reservation.Reservation': 0, 'administration.Service': 4})"
      ]
     },
     "execution_count": 2,
     "metadata": {},
     "output_type": "execute_result"
    }
   ],
   "source": [
    "Reservation.objects.all().delete()\n",
    "Customer.objects.all().delete()\n",
    "Service.objects.all().delete()"
   ]
  },
  {
   "cell_type": "code",
   "execution_count": 3,
   "metadata": {},
   "outputs": [],
   "source": [
    "c1 = Customer.objects.create(first_name=\"Haibo\", last_name=\"Yan\", gender='Male', email='haibo.yan@cgu.edu', tel='(925)351-5817')"
   ]
  },
  {
   "cell_type": "code",
   "execution_count": 4,
   "metadata": {},
   "outputs": [],
   "source": [
    "c1.save()"
   ]
  },
  {
   "cell_type": "code",
   "execution_count": 5,
   "metadata": {},
   "outputs": [],
   "source": [
    "c2 = Customer.objects.all()[0]"
   ]
  },
  {
   "cell_type": "code",
   "execution_count": 6,
   "metadata": {},
   "outputs": [
    {
     "data": {
      "text/plain": [
       "True"
      ]
     },
     "execution_count": 6,
     "metadata": {},
     "output_type": "execute_result"
    }
   ],
   "source": [
    "c1 == c2"
   ]
  },
  {
   "cell_type": "code",
   "execution_count": 7,
   "metadata": {},
   "outputs": [
    {
     "data": {
      "text/plain": [
       "django.db.models.query.QuerySet"
      ]
     },
     "execution_count": 7,
     "metadata": {},
     "output_type": "execute_result"
    }
   ],
   "source": [
    "type(Customer.objects.all())"
   ]
  },
  {
   "cell_type": "code",
   "execution_count": 8,
   "metadata": {},
   "outputs": [
    {
     "data": {
      "text/plain": [
       "[<Customer: Customer id: None, name: Karen Snow, sex: Female, True>,\n",
       " <Customer: Customer id: None, name: Okechukwu Ugwuanyi, sex: Male, True>,\n",
       " <Customer: Customer id: None, name: Leslie Bienenfeld, sex: Female, True>,\n",
       " <Customer: Customer id: None, name: Stephen Davison, sex: Male, True>]"
      ]
     },
     "execution_count": 8,
     "metadata": {},
     "output_type": "execute_result"
    }
   ],
   "source": [
    "Customer.objects.bulk_create([\n",
    "    Customer(first_name=\"Karen\", last_name=\"Snow\", gender='Female', email='karen.snow@cgu.edu', tel='(661)203-7322'),\n",
    "    Customer(first_name=\"Okechukwu\", last_name=\"Ugwuanyi\", gender='Male', email='okechukwu.ugwuanyi@cgu.edu', tel='(333)828-3880'),\n",
    "    Customer(first_name=\"Leslie\", last_name=\"Bienenfeld\", gender='Female', email='leslie.bienenfeld@cgu.edu', tel='(221)323-8320'),\n",
    "    Customer(first_name=\"Stephen\", last_name=\"Davison\", gender='Male', email='stephen.davison@cgu.edu', tel='(441)323-8320')\n",
    "])"
   ]
  },
  {
   "cell_type": "code",
   "execution_count": 9,
   "metadata": {},
   "outputs": [],
   "source": [
    "c3 = Customer.objects.all()[3]"
   ]
  },
  {
   "cell_type": "code",
   "execution_count": 10,
   "metadata": {},
   "outputs": [
    {
     "data": {
      "text/plain": [
       "<Customer: Customer id: 16, name: Leslie Bienenfeld, sex: Female, True>"
      ]
     },
     "execution_count": 10,
     "metadata": {},
     "output_type": "execute_result"
    }
   ],
   "source": [
    "c3"
   ]
  },
  {
   "cell_type": "code",
   "execution_count": 11,
   "metadata": {},
   "outputs": [
    {
     "name": "stdout",
     "output_type": "stream",
     "text": [
      "Customer id: 16, name: Leslie Bienenfeld, sex: Female, True\n"
     ]
    }
   ],
   "source": [
    "print(c3)"
   ]
  },
  {
   "cell_type": "code",
   "execution_count": 12,
   "metadata": {},
   "outputs": [
    {
     "data": {
      "text/plain": [
       "5"
      ]
     },
     "execution_count": 12,
     "metadata": {},
     "output_type": "execute_result"
    }
   ],
   "source": [
    "Customer.objects.all().count()"
   ]
  },
  {
   "cell_type": "code",
   "execution_count": 13,
   "metadata": {},
   "outputs": [],
   "source": [
    "males = Customer.objects.filter(gender='Male')"
   ]
  },
  {
   "cell_type": "code",
   "execution_count": 14,
   "metadata": {},
   "outputs": [],
   "source": [
    "okey = Customer.objects.get(first_name='Okechukwu') #get only allow one row"
   ]
  },
  {
   "cell_type": "code",
   "execution_count": 15,
   "metadata": {},
   "outputs": [],
   "source": [
    "females = Customer.objects.order_by('last_name').filter(gender='Female')"
   ]
  },
  {
   "cell_type": "code",
   "execution_count": 16,
   "metadata": {},
   "outputs": [
    {
     "name": "stdout",
     "output_type": "stream",
     "text": [
      "<QuerySet [<Customer: Customer id: 16, name: Leslie Bienenfeld, sex: Female, True>, <Customer: Customer id: 14, name: Karen Snow, sex: Female, True>]>\n"
     ]
    }
   ],
   "source": [
    "print(females)"
   ]
  },
  {
   "cell_type": "code",
   "execution_count": 17,
   "metadata": {},
   "outputs": [],
   "source": [
    "females_rev = Customer.objects.filter(gender='Female').order_by('-last_name')"
   ]
  },
  {
   "cell_type": "code",
   "execution_count": 18,
   "metadata": {},
   "outputs": [
    {
     "name": "stdout",
     "output_type": "stream",
     "text": [
      "<QuerySet [<Customer: Customer id: 14, name: Karen Snow, sex: Female, True>, <Customer: Customer id: 16, name: Leslie Bienenfeld, sex: Female, True>]>\n"
     ]
    }
   ],
   "source": [
    "print(females_rev)"
   ]
  },
  {
   "cell_type": "code",
   "execution_count": 19,
   "metadata": {},
   "outputs": [
    {
     "data": {
      "text/plain": [
       "<QuerySet [('Haibo', 'Yan'), ('Karen', 'Snow'), ('Okechukwu', 'Ugwuanyi'), ('Leslie', 'Bienenfeld'), ('Stephen', 'Davison')]>"
      ]
     },
     "execution_count": 19,
     "metadata": {},
     "output_type": "execute_result"
    }
   ],
   "source": [
    "Customer.objects.values_list(\"first_name\", \"last_name\")"
   ]
  },
  {
   "cell_type": "code",
   "execution_count": 20,
   "metadata": {},
   "outputs": [],
   "source": [
    "old_customer = Customer.objects.create(first_name=\"Sarah\", last_name=\"Brightman\", gender='Female', active=False, email='sarah.brightman@artist.com', tel='11111111')"
   ]
  },
  {
   "cell_type": "code",
   "execution_count": 21,
   "metadata": {},
   "outputs": [],
   "source": [
    "old_customer.save()"
   ]
  },
  {
   "cell_type": "code",
   "execution_count": 22,
   "metadata": {},
   "outputs": [
    {
     "data": {
      "text/plain": [
       "6"
      ]
     },
     "execution_count": 22,
     "metadata": {},
     "output_type": "execute_result"
    }
   ],
   "source": [
    "Customer.objects.all().count()"
   ]
  },
  {
   "cell_type": "code",
   "execution_count": 23,
   "metadata": {},
   "outputs": [
    {
     "data": {
      "text/plain": [
       "5"
      ]
     },
     "execution_count": 23,
     "metadata": {},
     "output_type": "execute_result"
    }
   ],
   "source": [
    "Customer.actives.count()"
   ]
  },
  {
   "cell_type": "code",
   "execution_count": 24,
   "metadata": {},
   "outputs": [
    {
     "name": "stdout",
     "output_type": "stream",
     "text": [
      "<QuerySet [<Customer: Customer id: 13, name: Haibo Yan, sex: Male, True>, <Customer: Customer id: 14, name: Karen Snow, sex: Female, True>, <Customer: Customer id: 15, name: Okechukwu Ugwuanyi, sex: Male, True>, <Customer: Customer id: 16, name: Leslie Bienenfeld, sex: Female, True>, <Customer: Customer id: 17, name: Stephen Davison, sex: Male, True>, <Customer: Customer id: 18, name: Sarah Brightman, sex: Female, False>]>\n"
     ]
    }
   ],
   "source": [
    "print(Customer.objects.all())"
   ]
  },
  {
   "cell_type": "code",
   "execution_count": 25,
   "metadata": {},
   "outputs": [
    {
     "name": "stdout",
     "output_type": "stream",
     "text": [
      "<QuerySet [<Customer: Customer id: 13, name: Haibo Yan, sex: Male, True>, <Customer: Customer id: 14, name: Karen Snow, sex: Female, True>, <Customer: Customer id: 15, name: Okechukwu Ugwuanyi, sex: Male, True>, <Customer: Customer id: 16, name: Leslie Bienenfeld, sex: Female, True>, <Customer: Customer id: 17, name: Stephen Davison, sex: Male, True>]>\n"
     ]
    }
   ],
   "source": [
    "print(Customer.actives.all())"
   ]
  },
  {
   "cell_type": "code",
   "execution_count": 26,
   "metadata": {},
   "outputs": [],
   "source": [
    "\n",
    "s1 = Service.objects.create(name='Mineral baths', description='Mineral baths', time_type='30, 60', rate=2.50)"
   ]
  },
  {
   "cell_type": "code",
   "execution_count": 27,
   "metadata": {},
   "outputs": [],
   "source": [
    "s1.save()"
   ]
  },
  {
   "cell_type": "code",
   "execution_count": 28,
   "metadata": {},
   "outputs": [
    {
     "data": {
      "text/plain": [
       "[<Service: name: Massage services\n",
       "  description: Swedish, shiatsu, or deep tissue\n",
       "  time_type: 30, 60 rate: 3.0>, <Service: name: Facial services\n",
       "  description: normal or collagen\n",
       "  time_type: 30, 60 rate: 2.0>, <Service: name: Specialty treatment services\n",
       "  description: hot stone, sugar scrub, herbal body wrap, or botanical mud wrap\n",
       "  time_type: 60, 90 rate: 3.5>]"
      ]
     },
     "execution_count": 28,
     "metadata": {},
     "output_type": "execute_result"
    }
   ],
   "source": [
    "Service.objects.bulk_create([\n",
    "    Service(name='Massage services', description='Swedish, shiatsu, or deep tissue', time_type='30, 60', rate=3.00),\n",
    "    Service(name='Facial services', description='normal or collagen', time_type='30, 60', rate=2.00),\n",
    "    Service(name='Specialty treatment services', description='hot stone, sugar scrub, herbal body wrap, or botanical mud wrap', time_type='60, 90', rate=3.50)\n",
    "])"
   ]
  },
  {
   "cell_type": "code",
   "execution_count": 29,
   "metadata": {},
   "outputs": [
    {
     "data": {
      "text/plain": [
       "4"
      ]
     },
     "execution_count": 29,
     "metadata": {},
     "output_type": "execute_result"
    }
   ],
   "source": [
    "Service.objects.all().count()"
   ]
  },
  {
   "cell_type": "code",
   "execution_count": 30,
   "metadata": {},
   "outputs": [],
   "source": [
    "s = list(Service.objects.all())"
   ]
  },
  {
   "cell_type": "code",
   "execution_count": 31,
   "metadata": {},
   "outputs": [
    {
     "data": {
      "text/plain": [
       "[<Service: name: Mineral baths\n",
       "  description: Mineral baths\n",
       "  time_type: 30, 60 rate: 2.50>, <Service: name: Massage services\n",
       "  description: Swedish, shiatsu, or deep tissue\n",
       "  time_type: 30, 60 rate: 3.00>, <Service: name: Facial services\n",
       "  description: normal or collagen\n",
       "  time_type: 30, 60 rate: 2.00>, <Service: name: Specialty treatment services\n",
       "  description: hot stone, sugar scrub, herbal body wrap, or botanical mud wrap\n",
       "  time_type: 60, 90 rate: 3.50>]"
      ]
     },
     "execution_count": 31,
     "metadata": {},
     "output_type": "execute_result"
    }
   ],
   "source": [
    "s"
   ]
  },
  {
   "cell_type": "code",
   "execution_count": 32,
   "metadata": {},
   "outputs": [],
   "source": [
    "from datetime import datetime\n",
    "day1 = datetime(year = 2019, month = 3, day = 31, hour = 12, minute = 0)\n",
    "day2 = datetime(year = 2019, month = 3, day = 20, hour = 9, minute = 30)"
   ]
  },
  {
   "cell_type": "code",
   "execution_count": 33,
   "metadata": {},
   "outputs": [
    {
     "name": "stderr",
     "output_type": "stream",
     "text": [
      "/usr/local/Cellar/python/3.7.0/Frameworks/Python.framework/Versions/3.7/lib/python3.7/site-packages/django/db/models/fields/__init__.py:1421: RuntimeWarning: DateTimeField Reservation.reservation_date_time received a naive datetime (2019-03-31 12:00:00) while time zone support is active.\n",
      "  RuntimeWarning)\n"
     ]
    }
   ],
   "source": [
    "r1 = Reservation.objects.create(customer = okey, reservation_date_time = day1, reservation_length=90, reservation_service = s1)"
   ]
  },
  {
   "cell_type": "code",
   "execution_count": 34,
   "metadata": {},
   "outputs": [],
   "source": [
    "r1.save()"
   ]
  },
  {
   "cell_type": "code",
   "execution_count": 35,
   "metadata": {},
   "outputs": [],
   "source": [
    "haibo = Customer.objects.get(first_name='Haibo')\n",
    "leslie = Customer.objects.get(first_name='Leslie')\n",
    "stephen = Customer.objects.get(first_name='Stephen')\n",
    "karen = Customer.objects.get(first_name='Karen')\n",
    "s2 = Service.objects.get(name='Massage services')\n",
    "s3 = Service.objects.get(name='Facial services')\n",
    "s4 = Service.objects.get(name='Specialty treatment services')\n",
    "daytime3 = datetime(year = 2019, month = 3, day = 9, hour = 9, minute = 30)\n",
    "daytime4 = datetime(year = 2019, month = 3, day = 9, hour = 16, minute = 30)\n",
    "daytime5 = datetime(year = 2019, month = 3, day =12, hour = 13, minute = 30)\n",
    "daytime6 = datetime(year = 2019, month = 3, day =13, hour = 8, minute = 15)\n",
    "daytime7 = datetime(year = 2019, month = 3, day =13, hour = 11, minute = 45)\n",
    "daytime8 = datetime(year = 2019, month = 3, day =16, hour = 15, minute = 15)\n",
    "daytime9 = datetime(year = 2019, month = 3, day =17, hour = 18, minute = 15)"
   ]
  },
  {
   "cell_type": "code",
   "execution_count": 36,
   "metadata": {},
   "outputs": [
    {
     "name": "stderr",
     "output_type": "stream",
     "text": [
      "/usr/local/Cellar/python/3.7.0/Frameworks/Python.framework/Versions/3.7/lib/python3.7/site-packages/django/db/models/fields/__init__.py:1421: RuntimeWarning: DateTimeField Reservation.reservation_date_time received a naive datetime (2019-03-09 09:30:00) while time zone support is active.\n",
      "  RuntimeWarning)\n",
      "/usr/local/Cellar/python/3.7.0/Frameworks/Python.framework/Versions/3.7/lib/python3.7/site-packages/django/db/models/fields/__init__.py:1421: RuntimeWarning: DateTimeField Reservation.reservation_date_time received a naive datetime (2019-03-09 16:30:00) while time zone support is active.\n",
      "  RuntimeWarning)\n",
      "/usr/local/Cellar/python/3.7.0/Frameworks/Python.framework/Versions/3.7/lib/python3.7/site-packages/django/db/models/fields/__init__.py:1421: RuntimeWarning: DateTimeField Reservation.reservation_date_time received a naive datetime (2019-03-12 13:30:00) while time zone support is active.\n",
      "  RuntimeWarning)\n",
      "/usr/local/Cellar/python/3.7.0/Frameworks/Python.framework/Versions/3.7/lib/python3.7/site-packages/django/db/models/fields/__init__.py:1421: RuntimeWarning: DateTimeField Reservation.reservation_date_time received a naive datetime (2019-03-13 08:15:00) while time zone support is active.\n",
      "  RuntimeWarning)\n",
      "/usr/local/Cellar/python/3.7.0/Frameworks/Python.framework/Versions/3.7/lib/python3.7/site-packages/django/db/models/fields/__init__.py:1421: RuntimeWarning: DateTimeField Reservation.reservation_date_time received a naive datetime (2019-03-13 11:45:00) while time zone support is active.\n",
      "  RuntimeWarning)\n",
      "/usr/local/Cellar/python/3.7.0/Frameworks/Python.framework/Versions/3.7/lib/python3.7/site-packages/django/db/models/fields/__init__.py:1421: RuntimeWarning: DateTimeField Reservation.reservation_date_time received a naive datetime (2019-03-16 15:15:00) while time zone support is active.\n",
      "  RuntimeWarning)\n",
      "/usr/local/Cellar/python/3.7.0/Frameworks/Python.framework/Versions/3.7/lib/python3.7/site-packages/django/db/models/fields/__init__.py:1421: RuntimeWarning: DateTimeField Reservation.reservation_date_time received a naive datetime (2019-03-17 18:15:00) while time zone support is active.\n",
      "  RuntimeWarning)\n"
     ]
    },
    {
     "data": {
      "text/plain": [
       "[<Reservation: Reservation object (None)>,\n",
       " <Reservation: Reservation object (None)>,\n",
       " <Reservation: Reservation object (None)>,\n",
       " <Reservation: Reservation object (None)>,\n",
       " <Reservation: Reservation object (None)>,\n",
       " <Reservation: Reservation object (None)>,\n",
       " <Reservation: Reservation object (None)>,\n",
       " <Reservation: Reservation object (None)>]"
      ]
     },
     "execution_count": 36,
     "metadata": {},
     "output_type": "execute_result"
    }
   ],
   "source": [
    "Reservation.objects.bulk_create([\n",
    "Reservation(customer = haibo, reservation_date_time = daytime3, reservation_length=60, reservation_service = s1),    \n",
    "Reservation(customer = stephen, reservation_date_time = daytime3, reservation_length=90, reservation_service = s2),   \n",
    "Reservation(customer = leslie, reservation_date_time = daytime4, reservation_length=90, reservation_service = s2),    \n",
    "Reservation(customer = leslie, reservation_date_time = daytime5, reservation_length=90, reservation_service = s3),    \n",
    "Reservation(customer = haibo, reservation_date_time = daytime6, reservation_length=60, reservation_service = s4),    \n",
    "Reservation(customer = okey, reservation_date_time = daytime7, reservation_length=90, reservation_service = s2),    \n",
    "Reservation(customer = karen, reservation_date_time = daytime8, reservation_length=60, reservation_service = s4),    \n",
    "Reservation(customer = okey, reservation_date_time = daytime9, reservation_length=90, reservation_service = s1)     \n",
    "])"
   ]
  }
 ],
 "metadata": {
  "kernelspec": {
   "display_name": "Django Shell-Plus",
   "language": "python",
   "name": "django_extensions"
  },
  "language_info": {
   "codemirror_mode": {
    "name": "ipython",
    "version": 3
   },
   "file_extension": ".py",
   "mimetype": "text/x-python",
   "name": "python",
   "nbconvert_exporter": "python",
   "pygments_lexer": "ipython3",
   "version": "3.7.0"
  }
 },
 "nbformat": 4,
 "nbformat_minor": 2
}
